{
  "nbformat": 4,
  "nbformat_minor": 0,
  "metadata": {
    "colab": {
      "provenance": []
    },
    "kernelspec": {
      "name": "python3",
      "display_name": "Python 3"
    },
    "language_info": {
      "name": "python"
    }
  },
  "cells": [
    {
      "cell_type": "code",
      "execution_count": null,
      "metadata": {
        "id": "I-RThZvcYKQ8"
      },
      "outputs": [],
      "source": [
        "# Pytorch workflow\n",
        "Lets explore an Pytorh end-to-end workflow"
      ]
    },
    {
      "cell_type": "code",
      "source": [
        "what_were_covering={1:\"data(prepare and load)\",\n",
        "                    2:'build model',\n",
        "                    3:'fitting the model to data(training)',\n",
        "                    4:\"making prediction and evauting a model(inference)\",\n",
        "                    5: \"baving and loading a model\",\n",
        "                    6: \"putting it all together\"}\n",
        "what_were_covering"
      ],
      "metadata": {
        "colab": {
          "base_uri": "https://localhost:8080/"
        },
        "id": "Rmw7fdnkeLKw",
        "outputId": "366f79b9-0b27-4953-f317-4583f2303704"
      },
      "execution_count": 2,
      "outputs": [
        {
          "output_type": "execute_result",
          "data": {
            "text/plain": [
              "{1: 'data(prepare and load)',\n",
              " 2: 'build model',\n",
              " 3: 'fitting the model to data(training)',\n",
              " 4: 'making prediction and evauting a model(inference)',\n",
              " 5: 'baving and loading a model',\n",
              " 6: 'putting it all together'}"
            ]
          },
          "metadata": {},
          "execution_count": 2
        }
      ]
    },
    {
      "cell_type": "code",
      "source": [
        "import torch\n",
        "from torch import nn  #nn contains all of pytorch's building blocks for nural networks\n",
        "import matplotlib.pyplot as plt\n",
        "# check pytorch version\n",
        "torch.__version__"
      ],
      "metadata": {
        "colab": {
          "base_uri": "https://localhost:8080/",
          "height": 36
        },
        "id": "qQtVyUIIfQwX",
        "outputId": "04a0d684-394a-4dbf-a611-f41c5f54ec1f"
      },
      "execution_count": 3,
      "outputs": [
        {
          "output_type": "execute_result",
          "data": {
            "text/plain": [
              "'2.1.0+cu121'"
            ],
            "application/vnd.google.colaboratory.intrinsic+json": {
              "type": "string"
            }
          },
          "metadata": {},
          "execution_count": 3
        }
      ]
    },
    {
      "cell_type": "markdown",
      "source": [
        "## 1.Data(preparing and loading)\n",
        "Data can be almost anyrthing .. in machine earning.\n",
        "*   Excel speadsheet\n",
        "*   Images of anykind\n",
        "*   Videos(youtube has lots of data...)\n",
        "*   Audio like songs or podcasts\n",
        "*   DNA\n",
        "*   Text\n",
        "\n",
        "\n",
        "\n",
        "Machine learning is a game of two parts:\n",
        "1. Get data into a numerical representation.\n",
        "2. Build a model to learn patterns in that numerical reprecentation.\n",
        "\n",
        "To sowcase tis,et's create some *known* data using the linear regression formula.\n",
        "\n",
        "\n",
        "\n",
        "we'll use a linear regression formua to make a straight line with *known* **parameters**."
      ],
      "metadata": {
        "id": "mXWrc9Ghhfj4"
      }
    },
    {
      "cell_type": "code",
      "source": [
        "# create *known* parameters\n",
        "weight=0.7\n",
        "bias=0.3\n",
        "# create\n",
        "start=0\n",
        "end=1\n",
        "step=0.02\n",
        "X=torch.arange(start,end,step).unsqueeze(dim=1)\n",
        "y=weight*X+bias\n",
        "X[:10],y[:10]"
      ],
      "metadata": {
        "colab": {
          "base_uri": "https://localhost:8080/"
        },
        "id": "y-ugXlAghXV0",
        "outputId": "afae5da8-51c3-4b0c-a3f8-763edc0e81b0"
      },
      "execution_count": 4,
      "outputs": [
        {
          "output_type": "execute_result",
          "data": {
            "text/plain": [
              "(tensor([[0.0000],\n",
              "         [0.0200],\n",
              "         [0.0400],\n",
              "         [0.0600],\n",
              "         [0.0800],\n",
              "         [0.1000],\n",
              "         [0.1200],\n",
              "         [0.1400],\n",
              "         [0.1600],\n",
              "         [0.1800]]),\n",
              " tensor([[0.3000],\n",
              "         [0.3140],\n",
              "         [0.3280],\n",
              "         [0.3420],\n",
              "         [0.3560],\n",
              "         [0.3700],\n",
              "         [0.3840],\n",
              "         [0.3980],\n",
              "         [0.4120],\n",
              "         [0.4260]]))"
            ]
          },
          "metadata": {},
          "execution_count": 4
        }
      ]
    },
    {
      "cell_type": "code",
      "source": [
        "len(X),len(y)"
      ],
      "metadata": {
        "colab": {
          "base_uri": "https://localhost:8080/"
        },
        "id": "zg3wBcRMkZhw",
        "outputId": "302b0455-ec96-470d-ae1c-4161b1037093"
      },
      "execution_count": 5,
      "outputs": [
        {
          "output_type": "execute_result",
          "data": {
            "text/plain": [
              "(50, 50)"
            ]
          },
          "metadata": {},
          "execution_count": 5
        }
      ]
    },
    {
      "cell_type": "code",
      "source": [
        "## splitting data into training and test sets(one of the most important concepts in machine learning in general)\n",
        "# let's create a training and test set with our data."
      ],
      "metadata": {
        "id": "YQI3ANW7kfLg"
      },
      "execution_count": 6,
      "outputs": []
    },
    {
      "cell_type": "code",
      "source": [
        "# create a train /test split\n",
        "train_split= int(0.8*len(X))\n",
        "X_train,y_train=X[:train_split],y[:train_split]\n",
        "X_test,y_test=X[train_split:],y[train_split:]\n",
        "len(X_train),len(y_train),len(X_test),len(y_test)"
      ],
      "metadata": {
        "colab": {
          "base_uri": "https://localhost:8080/"
        },
        "id": "06aTdYNRmbAY",
        "outputId": "95ce3de9-861e-431f-b458-526fef5bee3a"
      },
      "execution_count": 8,
      "outputs": [
        {
          "output_type": "execute_result",
          "data": {
            "text/plain": [
              "(40, 40, 10, 10)"
            ]
          },
          "metadata": {},
          "execution_count": 8
        }
      ]
    },
    {
      "cell_type": "code",
      "source": [
        "X_train,y_train"
      ],
      "metadata": {
        "id": "niZGVzkwnb0C",
        "outputId": "86090e26-b60c-4cbb-e2c8-96cafa177542",
        "colab": {
          "base_uri": "https://localhost:8080/"
        }
      },
      "execution_count": 9,
      "outputs": [
        {
          "output_type": "execute_result",
          "data": {
            "text/plain": [
              "(tensor([[0.0000],\n",
              "         [0.0200],\n",
              "         [0.0400],\n",
              "         [0.0600],\n",
              "         [0.0800],\n",
              "         [0.1000],\n",
              "         [0.1200],\n",
              "         [0.1400],\n",
              "         [0.1600],\n",
              "         [0.1800],\n",
              "         [0.2000],\n",
              "         [0.2200],\n",
              "         [0.2400],\n",
              "         [0.2600],\n",
              "         [0.2800],\n",
              "         [0.3000],\n",
              "         [0.3200],\n",
              "         [0.3400],\n",
              "         [0.3600],\n",
              "         [0.3800],\n",
              "         [0.4000],\n",
              "         [0.4200],\n",
              "         [0.4400],\n",
              "         [0.4600],\n",
              "         [0.4800],\n",
              "         [0.5000],\n",
              "         [0.5200],\n",
              "         [0.5400],\n",
              "         [0.5600],\n",
              "         [0.5800],\n",
              "         [0.6000],\n",
              "         [0.6200],\n",
              "         [0.6400],\n",
              "         [0.6600],\n",
              "         [0.6800],\n",
              "         [0.7000],\n",
              "         [0.7200],\n",
              "         [0.7400],\n",
              "         [0.7600],\n",
              "         [0.7800]]),\n",
              " tensor([[0.3000],\n",
              "         [0.3140],\n",
              "         [0.3280],\n",
              "         [0.3420],\n",
              "         [0.3560],\n",
              "         [0.3700],\n",
              "         [0.3840],\n",
              "         [0.3980],\n",
              "         [0.4120],\n",
              "         [0.4260],\n",
              "         [0.4400],\n",
              "         [0.4540],\n",
              "         [0.4680],\n",
              "         [0.4820],\n",
              "         [0.4960],\n",
              "         [0.5100],\n",
              "         [0.5240],\n",
              "         [0.5380],\n",
              "         [0.5520],\n",
              "         [0.5660],\n",
              "         [0.5800],\n",
              "         [0.5940],\n",
              "         [0.6080],\n",
              "         [0.6220],\n",
              "         [0.6360],\n",
              "         [0.6500],\n",
              "         [0.6640],\n",
              "         [0.6780],\n",
              "         [0.6920],\n",
              "         [0.7060],\n",
              "         [0.7200],\n",
              "         [0.7340],\n",
              "         [0.7480],\n",
              "         [0.7620],\n",
              "         [0.7760],\n",
              "         [0.7900],\n",
              "         [0.8040],\n",
              "         [0.8180],\n",
              "         [0.8320],\n",
              "         [0.8460]]))"
            ]
          },
          "metadata": {},
          "execution_count": 9
        }
      ]
    },
    {
      "cell_type": "markdown",
      "source": [
        "How might we better visualize our data?\n",
        "This is where the data explorer's motto comes in!\n",
        "\"visuaize\""
      ],
      "metadata": {
        "id": "asp54-iqp3Ax"
      }
    },
    {
      "cell_type": "code",
      "source": [
        "def plot_predictions(train_data=X_train,\n",
        "                     train_labels=y_train,\n",
        "                     test_data=X_test,\n",
        "                     test_labels=y_test,\n",
        "                     predictions=None):\n",
        "  \"\"\"\n",
        "  plots training data,test data and compares predictions.\n",
        "  \"\"\"\n",
        "  plt.figure(figsize=(10,7))\n",
        "\n",
        "  # plot training data in blue\n",
        "  plt.scatter(train_data,train_labels,c='b',s=4,label='Training data')\n",
        "\n",
        "\n",
        "  # plot test data in green\n",
        "  plt.scatter(test_data,test_labels,c='g',s=4,label='testing data')\n",
        "  # Are there predictions?\n",
        "  if predictions is not None:\n",
        "    #plot the predictions if they exist\n",
        "    plt.scatter(test_data,predictions,c='r',s=4,label='predictions')\n",
        "    # show the legend\n",
        "    plt.legend(prop={\"size\":14});\n",
        "\n"
      ],
      "metadata": {
        "id": "GvFl4Zixnq_R"
      },
      "execution_count": 17,
      "outputs": []
    },
    {
      "cell_type": "code",
      "source": [
        "plot_predictions();"
      ],
      "metadata": {
        "id": "ROkm8XmRq9Kl",
        "outputId": "c51b931b-9711-4946-c1c9-9cecb880c6dc",
        "colab": {
          "base_uri": "https://localhost:8080/",
          "height": 460
        }
      },
      "execution_count": 18,
      "outputs": [
        {
          "output_type": "display_data",
          "data": {
            "text/plain": [
              "<Figure size 1000x700 with 1 Axes>"
            ],
            "image/png": "[encoded data removed]"
          },
          "metadata": {}
        }
      ]
    },
    {
      "cell_type": "code",
      "source": [],
      "metadata": {
        "id": "TPmcSKbfsPEh"
      },
      "execution_count": null,
      "outputs": []
    },
    {
      "cell_type": "markdown",
      "source": [
        "## 2.Building model\n",
        "Our first Pytorch model\n",
        "This is very exciting.. let's do it!"
      ],
      "metadata": {
        "id": "feXzMSZQtlox"
      }
    },
    {
      "cell_type": "code",
      "source": [
        "# create linear regression model class\n",
        "class LinearRegressionModel(nn.Module):#<-almost everythingg in pytorch\n",
        "    def __init__(self):\n",
        "      super().__init__()\n",
        "      self.weights=nn.Parameter(torch.rann(1,requires_grad=True,\n",
        "                                           dtype=torch.float))\n",
        "      self.bias=nn.parameter(torch.randn(1,\n",
        "                                         requires_grad=True,\n",
        "                                         dtype=torch.float))\n",
        "      #Forward method to define the computation in the model\n",
        "      def forward(sef,x:torch.tensor)->torch.tensor:#<-\"x\" is the input data\n",
        "          return sef.weights*x+self.bias# this is the linear regression formula"
      ],
      "metadata": {
        "id": "aqzN_ZWntZ6F"
      },
      "execution_count": 20,
      "outputs": []
    },
    {
      "cell_type": "code",
      "source": [],
      "metadata": {
        "id": "euJ3H_75vbH5"
      },
      "execution_count": null,
      "outputs": []
    }
  ]
}